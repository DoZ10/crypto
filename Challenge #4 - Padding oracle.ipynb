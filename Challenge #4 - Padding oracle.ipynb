{
 "cells": [
  {
   "cell_type": "code",
   "execution_count": 15,
   "metadata": {},
   "outputs": [
    {
     "name": "stdout",
     "output_type": "stream",
     "text": [
      "OK\n"
     ]
    }
   ],
   "source": [
    "import requests\n",
    "\n",
    "# Sending request to web server\n",
    "payload = { 'plaintext' : 'abcdef0123456789' }\n",
    "response = requests.post('http://3.90.169.27:8000/crypto4/', data=payload)\n",
    "\n",
    "ciphertext = response.text\n",
    "\n",
    "# Attacking Block 1\n",
    "\n",
    "saved = \n",
    "\n",
    "\n",
    "\n",
    "# Sending request to web server\n",
    "payload = { 'ciphertext' : ciphertext }\n",
    "response = requests.post('http://3.90.169.27:8000/crypto4/', data=payload)\n",
    "\n",
    "print(response.text)"
   ]
  },
  {
   "cell_type": "code",
   "execution_count": null,
   "metadata": {},
   "outputs": [],
   "source": []
  },
  {
   "cell_type": "code",
   "execution_count": null,
   "metadata": {},
   "outputs": [],
   "source": []
  }
 ],
 "metadata": {
  "kernelspec": {
   "display_name": "Python 3",
   "language": "python",
   "name": "python3"
  },
  "language_info": {
   "codemirror_mode": {
    "name": "ipython",
    "version": 3
   },
   "file_extension": ".py",
   "mimetype": "text/x-python",
   "name": "python",
   "nbconvert_exporter": "python",
   "pygments_lexer": "ipython3",
   "version": "3.7.2"
  }
 },
 "nbformat": 4,
 "nbformat_minor": 2
}
