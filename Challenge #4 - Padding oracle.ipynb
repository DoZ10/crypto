{
 "cells": [
  {
   "cell_type": "code",
   "execution_count": 49,
   "metadata": {},
   "outputs": [
    {
     "name": "stdout",
     "output_type": "stream",
     "text": [
      "OK\n",
      "\u0005 5 b63bd404b61da93925d3465de12c9fe38fa14dbd3ed4601d10781876d936d845\n",
      "\u0005 5 b63bd404b61da93925d3465de12c98e08fa14dbd3ed4601d10781876d936d845\n",
      "\u0005 5 b63bd404b61da93925d3465de12a99e18fa14dbd3ed4601d10781876d936d845\n",
      "\u0005 5 b63bd404b61da93925d3465de02d9ee68fa14dbd3ed4601d10781876d936d845\n",
      "\u0005 5 b63bd404b61da93925d3465de12c9fe78fa14dbd3ed4601d10781876d936d845\n",
      "! 33 b63bd404b61da93925d3615ee22f9ce48fa14dbd3ed4601d10781876d936d845\n",
      "D 68 b63bd404b61da9392590605fe32e9de58fa14dbd3ed4601d10781876d936d845\n",
      "N 78 b63bd404b61da939639f6f50ec2192ea8fa14dbd3ed4601d10781876d936d845\n",
      "U 85 b63bd404b61da965629e6e51ed2093eb8fa14dbd3ed4601d10781876d936d845\n",
      "O 79 b63bd404b61dec66619d6d52ee2390e88fa14dbd3ed4601d10781876d936d845\n",
      "F 70 b63bd404b650ed67609c6c53ef2291e98fa14dbd3ed4601d10781876d936d845\n",
      "- 45 b63bd4049757ea60679b6b54e82596ee8fa14dbd3ed4601d10781876d936d845\n",
      "G 71 b63bd44e9656eb61669a6a55e92497ef8fa14dbd3ed4601d10781876d936d845\n",
      "A 65 b63b9b4d9555e86265996956ea2794ec8fa14dbd3ed4601d10781876d936d845\n",
      "L 76 b6789a4c9454e96364986857eb2695ed8fa14dbd3ed4601d10781876d936d845\n",
      "F 70 e06785538b4bf67c7b877748f4398af28fa14dbd3ed4601d10781876d936d845\n"
     ]
    }
   ],
   "source": [
    "import requests\n",
    "from binascii import unhexlify, hexlify\n",
    "\n",
    "ciphertext = \"b63bd404b61da93925d3465de12c9fe78fa14dbd3ed4601d10781876d936d845\"\n",
    "cipher = unhexlify(ciphertext)\n",
    "\n",
    "# Sending request to web server\n",
    "payload = { 'ciphertext' : ciphertext }\n",
    "response = requests.post('http://35.173.236.202:8000/crypto4/', data=payload)\n",
    "\n",
    "known = []\n",
    "skip  = 1\n",
    "\n",
    "print(response.text)\n",
    "\n",
    "for i in range(15, -1, -1):\n",
    "    \n",
    "    for j in range(0, 256): \n",
    "        x = b\"\"\n",
    "        x += hexlify((j ^ cipher[i] ^ (16 - i)).to_bytes(1, \"little\"))\n",
    "        for m in range(0, 15 - i):\n",
    "            x += hexlify((known[len(known)-m-1] ^ cipher[i + m + 1] ^ (16 - i)).to_bytes(1, \"little\"))\n",
    "\n",
    "        # Build blocks\n",
    "        c = ciphertext[:i * 2] + str(x)[2: (16 - i) * 2 + 2] + ciphertext[i * 2 + (16 - i) * 2:]\n",
    "        #print(i, x, j, c, known)\n",
    "        \n",
    "        payload = { 'ciphertext' : c }\n",
    "        response = requests.post('http://35.173.236.202:8000/crypto4/', data=payload)\n",
    "        \n",
    "        if response.status_code == 200:\n",
    "            if ciphertext == c and skip == 1:\n",
    "                skip = 0  \n",
    "            else:\n",
    "                known.append(j)\n",
    "                #print(chr(j), i, x, j, c, known)\n",
    "                print(chr(j), j, c)\n",
    "                break    \n",
    "        \n",
    "        \n"
   ]
  },
  {
   "cell_type": "code",
   "execution_count": null,
   "metadata": {},
   "outputs": [],
   "source": []
  },
  {
   "cell_type": "code",
   "execution_count": null,
   "metadata": {},
   "outputs": [],
   "source": []
  }
 ],
 "metadata": {
  "kernelspec": {
   "display_name": "Python 3",
   "language": "python",
   "name": "python3"
  },
  "language_info": {
   "codemirror_mode": {
    "name": "ipython",
    "version": 3
   },
   "file_extension": ".py",
   "mimetype": "text/x-python",
   "name": "python",
   "nbconvert_exporter": "python",
   "pygments_lexer": "ipython3",
   "version": "3.7.2"
  }
 },
 "nbformat": 4,
 "nbformat_minor": 2
}
