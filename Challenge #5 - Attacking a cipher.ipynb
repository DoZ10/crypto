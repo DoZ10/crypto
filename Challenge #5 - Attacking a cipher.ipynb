{
 "cells": [
  {
   "cell_type": "code",
   "execution_count": 2,
   "metadata": {},
   "outputs": [
    {
     "name": "stdout",
     "output_type": "stream",
     "text": [
      "d6d0c3840c4bb8356b9fc2cf6c5afdadf6dccf940148fa242ac995883f19\n"
     ]
    }
   ],
   "source": [
    "import requests\n",
    "\n",
    "# Sending request to web server\n",
    "payload = { 'plaintext' : 'abcdef0123456789' }\n",
    "response = requests.post('http://3.90.169.27:8000/crypto5/', data=payload)\n",
    "\n",
    "print(response.text)\n",
    "\n"
   ]
  },
  {
   "cell_type": "code",
   "execution_count": null,
   "metadata": {},
   "outputs": [],
   "source": []
  }
 ],
 "metadata": {
  "kernelspec": {
   "display_name": "Python 3",
   "language": "python",
   "name": "python3"
  },
  "language_info": {
   "codemirror_mode": {
    "name": "ipython",
    "version": 3
   },
   "file_extension": ".py",
   "mimetype": "text/x-python",
   "name": "python",
   "nbconvert_exporter": "python",
   "pygments_lexer": "ipython3",
   "version": "3.7.2"
  }
 },
 "nbformat": 4,
 "nbformat_minor": 2
}
