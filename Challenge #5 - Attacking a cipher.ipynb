{
 "cells": [
  {
   "cell_type": "code",
   "execution_count": 18,
   "metadata": {},
   "outputs": [
    {
     "name": "stdout",
     "output_type": "stream",
     "text": [
      "3db946533c7884634eaba7c85da13d902e8557\n",
      "Yet Another secret\n"
     ]
    }
   ],
   "source": [
    "import requests\n",
    "from binascii import hexlify, unhexlify\n",
    "\n",
    "url = \"\"\n",
    "\n",
    "# Send a first small request to get the encrypted secret\n",
    "\n",
    "payload = {'plaintext': 'a'}\n",
    "response = requests.post('http://35.173.236.202:8000/crypto5/', data=payload)\n",
    "print(response.text)\n",
    "\n",
    "c1 = unhexlify(response.text)\n",
    "\n",
    "# Send a larger request to generate a known keystream\n",
    "payload = {'plaintext': 'a'*30}\n",
    "p2 = payload.get('plaintext').encode()\n",
    "\n",
    "response = requests.post('http://35.173.236.202:8000/crypto5/', data=payload)\n",
    "c2 = unhexlify(response.text) \n",
    "\n",
    "# p1 ^ c1 = keystream\n",
    "# p2 ^ c2 = keystream\n",
    "# p1 ^ c1 = p2 ^ c2\n",
    "# p1 = c1 ^ p2 ^ c2\n",
    "secret = bytes([a ^ b ^ c for a,b,c in zip(c1, c2, p2)]).decode()[1:]\n",
    "\n",
    "print(secret)\n"
   ]
  },
  {
   "cell_type": "code",
   "execution_count": null,
   "metadata": {},
   "outputs": [],
   "source": []
  },
  {
   "cell_type": "code",
   "execution_count": null,
   "metadata": {},
   "outputs": [],
   "source": []
  }
 ],
 "metadata": {
  "kernelspec": {
   "display_name": "Python 3",
   "language": "python",
   "name": "python3"
  },
  "language_info": {
   "codemirror_mode": {
    "name": "ipython",
    "version": 3
   },
   "file_extension": ".py",
   "mimetype": "text/x-python",
   "name": "python",
   "nbconvert_exporter": "python",
   "pygments_lexer": "ipython3",
   "version": "3.7.2"
  }
 },
 "nbformat": 4,
 "nbformat_minor": 2
}
