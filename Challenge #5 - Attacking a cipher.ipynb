{
 "cells": [
  {
   "cell_type": "code",
   "execution_count": 10,
   "metadata": {},
   "outputs": [
    {
     "name": "stdout",
     "output_type": "stream",
     "text": [
      "b63bd404b61da93925d3465de12c9fe7f3067344f5a5c334caa5b76d1526603c\n",
      "OK\n"
     ]
    }
   ],
   "source": [
    "import requests\n",
    "\n",
    "# Sending request to web server\n",
    "payload = { 'plaintext' : 'abcdef0123456789' }\n",
    "response = requests.post('http://35.173.236.202:8000/crypto5/', data=payload)\n",
    "\n",
    "print(response.text)\n",
    "\n",
    "# Sending request to web server\n",
    "payload = { 'ciphertext' : 'b63bd404b61da93925d3465de12c9fe7f3067344f5a5c334caa5b76d1526603c' }\n",
    "response = requests.post('http://35.173.236.202:8000/crypto5/', data=payload)\n",
    "\n",
    "print(response.text)"
   ]
  },
  {
   "cell_type": "code",
   "execution_count": null,
   "metadata": {},
   "outputs": [],
   "source": []
  }
 ],
 "metadata": {
  "kernelspec": {
   "display_name": "Python 3",
   "language": "python",
   "name": "python3"
  },
  "language_info": {
   "codemirror_mode": {
    "name": "ipython",
    "version": 3
   },
   "file_extension": ".py",
   "mimetype": "text/x-python",
   "name": "python",
   "nbconvert_exporter": "python",
   "pygments_lexer": "ipython3",
   "version": "3.7.2"
  }
 },
 "nbformat": 4,
 "nbformat_minor": 2
}
