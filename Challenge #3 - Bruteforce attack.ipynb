{
 "cells": [
  {
   "cell_type": "code",
   "execution_count": 45,
   "metadata": {},
   "outputs": [
    {
     "name": "stdout",
     "output_type": "stream",
     "text": [
      "Found H\n",
      "Found i\n",
      "Found d\n",
      "Found i\n",
      "Found n\n",
      "Found g\n",
      "Found  \n",
      "Found h\n",
      "Found e\n",
      "Found r\n",
      "Found e\n",
      "Found !\n",
      "Found \u0001\n"
     ]
    }
   ],
   "source": [
    "import requests\n",
    "from binascii import hexlify, unhexlify\n",
    "\n",
    "plaintext = 'abcdef0123456789'\n",
    "\n",
    "\n",
    "# Bruteforcing block 1\n",
    "\n",
    "found = []\n",
    "\n",
    "for i in range(1, 16):\n",
    "    p = plaintext[ :-i ]\n",
    "    \n",
    "    # Sending request to web server\n",
    "    payload = { 'plaintext' : p }\n",
    "    response = requests.post('http://3.90.169.27:8000/crypto3/', data=payload)\n",
    "\n",
    "    saved = response.text[:32]\n",
    "    \n",
    "    for j in range(0, 256):\n",
    "        pp = p + ''.join(found) + chr(j)\n",
    "        payload = { 'plaintext' : pp }\n",
    "        response = requests.post('http://3.90.169.27:8000/crypto3/', data=payload)\n",
    "        if saved == response.text[:32]:\n",
    "            found.append(chr(j))\n",
    "            print(\"Found %c\" % found[i-1])\n",
    "            break\n",
    "\n",
    "\n"
   ]
  },
  {
   "cell_type": "code",
   "execution_count": null,
   "metadata": {},
   "outputs": [],
   "source": []
  },
  {
   "cell_type": "code",
   "execution_count": null,
   "metadata": {},
   "outputs": [],
   "source": []
  }
 ],
 "metadata": {
  "kernelspec": {
   "display_name": "Python 3",
   "language": "python",
   "name": "python3"
  },
  "language_info": {
   "codemirror_mode": {
    "name": "ipython",
    "version": 3
   },
   "file_extension": ".py",
   "mimetype": "text/x-python",
   "name": "python",
   "nbconvert_exporter": "python",
   "pygments_lexer": "ipython3",
   "version": "3.7.2"
  }
 },
 "nbformat": 4,
 "nbformat_minor": 2
}
